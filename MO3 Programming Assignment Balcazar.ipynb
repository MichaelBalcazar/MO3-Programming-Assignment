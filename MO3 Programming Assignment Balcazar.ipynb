{
 "cells": [
  {
   "cell_type": "markdown",
   "id": "97608d03-4a73-41cf-bc99-eb5f2f7ea155",
   "metadata": {},
   "source": [
    "7.4 Make a list called things with these three strings as elements: \"mozzarella\", \"cinderella\", \"salmonella\"."
   ]
  },
  {
   "cell_type": "code",
   "execution_count": null,
   "id": "ce23c569-d675-4867-86be-82d1dcd30c44",
   "metadata": {},
   "outputs": [],
   "source": [
    "things = [\"mozzarella\", \"cinderella\", \"salmonella\"]\n"
   ]
  },
  {
   "cell_type": "markdown",
   "id": "d565aa76-76e7-42cf-b199-749125090bc0",
   "metadata": {},
   "source": [
    "7.5 Capitalize the element in things that refers to a person and then print the list. Did it change the element in the list?"
   ]
  },
  {
   "cell_type": "code",
   "execution_count": null,
   "id": "320d7f35-fabb-40bd-a9ec-b6ef50fb2130",
   "metadata": {},
   "outputs": [],
   "source": [
    "things = [\"mozzarella\", \"cinderella\", \"salmonella\"]\n",
    "\n",
    "# Capitalize the element referring to a person\n",
    "things[1] = things[1].capitalize()\n",
    "\n",
    "# Print the updated list\n",
    "print(things)\n"
   ]
  },
  {
   "cell_type": "markdown",
   "id": "0d719924-8198-4a93-ad37-6a5af4c80413",
   "metadata": {},
   "source": [
    "It capitalizes the \"c\" in cinderella."
   ]
  },
  {
   "cell_type": "markdown",
   "id": "8638b416-2b9d-4546-95d1-2e6f23b141af",
   "metadata": {},
   "source": [
    "7.6 Make the cheesy element of things all uppercase and then print the list."
   ]
  },
  {
   "cell_type": "code",
   "execution_count": null,
   "id": "b738ef72-d406-4a8d-a3ed-64190fe8f6f7",
   "metadata": {},
   "outputs": [],
   "source": [
    "things = [\"mozzarella\", \"Cinderella\", \"salmonella\"]\n",
    "\n",
    "# Make the cheesy element all uppercase\n",
    "things[0] = things[0].upper()\n",
    "\n",
    "# Print the updated list\n",
    "print(things)\n"
   ]
  },
  {
   "cell_type": "markdown",
   "id": "32233bb5-67d1-415a-a574-c60ecd38fba5",
   "metadata": {},
   "source": [
    "7.7 Delete the disease element from things, collect your Nobel Prize, and print the list."
   ]
  },
  {
   "cell_type": "code",
   "execution_count": null,
   "id": "457ef659-5b41-406a-a37f-ce9a248d8d8d",
   "metadata": {},
   "outputs": [],
   "source": [
    "things = [\"MOZZARELLA\", \"Cinderella\", \"salmonella\"]\n",
    "\n",
    "# Delete the disease element from the list\n",
    "del things[2]\n",
    "\n",
    "# Print the updated list\n",
    "print(things)\n"
   ]
  },
  {
   "cell_type": "markdown",
   "id": "f23e86e7-c34f-44e2-98d7-090d3eaf4fc7",
   "metadata": {},
   "source": [
    "9.1 Define a function called good() that returns the following list: ['Harry', 'Ron', 'Hermione']."
   ]
  },
  {
   "cell_type": "code",
   "execution_count": null,
   "id": "871d1ff3-239d-48a5-877f-e621bb2107d2",
   "metadata": {},
   "outputs": [],
   "source": [
    "def good():\n",
    "    return ['Harry', 'Ron', 'Hermione']\n",
    "result = good()\n",
    "print(result)  # Output will be: ['Harry', 'Ron', 'Hermione']"
   ]
  },
  {
   "cell_type": "markdown",
   "id": "f19f0085-e7e6-43c8-9f1c-10b1740d167a",
   "metadata": {},
   "source": [
    "9.2 Define a generator function called get_odds() that returns the odd numbers from range(10). Use a for loop to find and print the third value returned."
   ]
  },
  {
   "cell_type": "code",
   "execution_count": 1,
   "id": "00f5ee43-f823-4b7b-9b16-b21d6e161acf",
   "metadata": {},
   "outputs": [
    {
     "name": "stdout",
     "output_type": "stream",
     "text": [
      "The third odd number is: 5\n"
     ]
    }
   ],
   "source": [
    "def get_odds():\n",
    "    for num in range(1, 10, 2):  # range(1, 10, 2) generates odd numbers from 1 to 9\n",
    "        yield num\n",
    "\n",
    "# Use a for loop to find and print the third value returned by the generator\n",
    "count = 0\n",
    "for odd_number in get_odds():\n",
    "    count += 1\n",
    "    if count == 3:\n",
    "        print(\"The third odd number is:\", odd_number)\n",
    "        break\n"
   ]
  },
  {
   "cell_type": "code",
   "execution_count": null,
   "id": "c6207c88-26d3-47e8-8159-ba0d5a7d57fb",
   "metadata": {},
   "outputs": [],
   "source": []
  }
 ],
 "metadata": {
  "kernelspec": {
   "display_name": "Python 3 (ipykernel)",
   "language": "python",
   "name": "python3"
  },
  "language_info": {
   "codemirror_mode": {
    "name": "ipython",
    "version": 3
   },
   "file_extension": ".py",
   "mimetype": "text/x-python",
   "name": "python",
   "nbconvert_exporter": "python",
   "pygments_lexer": "ipython3",
   "version": "3.11.7"
  }
 },
 "nbformat": 4,
 "nbformat_minor": 5
}
